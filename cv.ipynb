{
 "cells": [
  {
   "cell_type": "code",
   "execution_count": 1,
   "id": "d72b2a20",
   "metadata": {},
   "outputs": [
    {
     "name": "stdout",
     "output_type": "stream",
     "text": [
      "Requirement already satisfied: mediapipe in c:\\users\\balashanmugam\\appdata\\local\\programs\\python\\python39\\lib\\site-packages (0.9.3.0)\n",
      "Requirement already satisfied: opencv-python in c:\\users\\balashanmugam\\appdata\\local\\programs\\python\\python39\\lib\\site-packages (4.5.5.62)\n",
      "Requirement already satisfied: matplotlib in c:\\users\\balashanmugam\\appdata\\local\\programs\\python\\python39\\lib\\site-packages (from mediapipe) (3.5.1)\n",
      "Requirement already satisfied: absl-py in c:\\users\\balashanmugam\\appdata\\local\\programs\\python\\python39\\lib\\site-packages (from mediapipe) (1.2.0)\n",
      "Requirement already satisfied: protobuf<4,>=3.11 in c:\\users\\balashanmugam\\appdata\\local\\programs\\python\\python39\\lib\\site-packages (from mediapipe) (3.19.6)\n",
      "Requirement already satisfied: sounddevice>=0.4.4 in c:\\users\\balashanmugam\\appdata\\local\\programs\\python\\python39\\lib\\site-packages (from mediapipe) (0.4.6)\n",
      "Requirement already satisfied: opencv-contrib-python in c:\\users\\balashanmugam\\appdata\\local\\programs\\python\\python39\\lib\\site-packages (from mediapipe) (4.7.0.72)\n",
      "Requirement already satisfied: numpy in c:\\users\\balashanmugam\\appdata\\local\\programs\\python\\python39\\lib\\site-packages (from mediapipe) (1.22.2)\n",
      "Requirement already satisfied: flatbuffers>=2.0 in c:\\users\\balashanmugam\\appdata\\local\\programs\\python\\python39\\lib\\site-packages (from mediapipe) (23.3.3)\n",
      "Requirement already satisfied: attrs>=19.1.0 in c:\\users\\balashanmugam\\appdata\\local\\programs\\python\\python39\\lib\\site-packages (from mediapipe) (21.4.0)\n",
      "Requirement already satisfied: CFFI>=1.0 in c:\\users\\balashanmugam\\appdata\\local\\programs\\python\\python39\\lib\\site-packages (from sounddevice>=0.4.4->mediapipe) (1.15.0)\n",
      "Requirement already satisfied: cycler>=0.10 in c:\\users\\balashanmugam\\appdata\\local\\programs\\python\\python39\\lib\\site-packages (from matplotlib->mediapipe) (0.11.0)\n",
      "Requirement already satisfied: pillow>=6.2.0 in c:\\users\\balashanmugam\\appdata\\local\\programs\\python\\python39\\lib\\site-packages (from matplotlib->mediapipe) (9.0.1)\n",
      "Requirement already satisfied: pyparsing>=2.2.1 in c:\\users\\balashanmugam\\appdata\\local\\programs\\python\\python39\\lib\\site-packages (from matplotlib->mediapipe) (3.0.7)\n",
      "Requirement already satisfied: packaging>=20.0 in c:\\users\\balashanmugam\\appdata\\local\\programs\\python\\python39\\lib\\site-packages (from matplotlib->mediapipe) (21.3)\n",
      "Requirement already satisfied: python-dateutil>=2.7 in c:\\users\\balashanmugam\\appdata\\local\\programs\\python\\python39\\lib\\site-packages (from matplotlib->mediapipe) (2.8.2)\n",
      "Requirement already satisfied: kiwisolver>=1.0.1 in c:\\users\\balashanmugam\\appdata\\local\\programs\\python\\python39\\lib\\site-packages (from matplotlib->mediapipe) (1.4.0)\n",
      "Requirement already satisfied: fonttools>=4.22.0 in c:\\users\\balashanmugam\\appdata\\local\\programs\\python\\python39\\lib\\site-packages (from matplotlib->mediapipe) (4.31.2)\n",
      "Requirement already satisfied: pycparser in c:\\users\\balashanmugam\\appdata\\local\\programs\\python\\python39\\lib\\site-packages (from CFFI>=1.0->sounddevice>=0.4.4->mediapipe) (2.21)\n",
      "Requirement already satisfied: six>=1.5 in c:\\users\\balashanmugam\\appdata\\local\\programs\\python\\python39\\lib\\site-packages (from python-dateutil>=2.7->matplotlib->mediapipe) (1.16.0)\n"
     ]
    },
    {
     "name": "stderr",
     "output_type": "stream",
     "text": [
      "WARNING: Ignoring invalid distribution -rotobuf (c:\\users\\balashanmugam\\appdata\\local\\programs\\python\\python39\\lib\\site-packages)\n",
      "WARNING: Ignoring invalid distribution -rotobuf (c:\\users\\balashanmugam\\appdata\\local\\programs\\python\\python39\\lib\\site-packages)\n",
      "WARNING: Ignoring invalid distribution -rotobuf (c:\\users\\balashanmugam\\appdata\\local\\programs\\python\\python39\\lib\\site-packages)\n",
      "WARNING: Ignoring invalid distribution -rotobuf (c:\\users\\balashanmugam\\appdata\\local\\programs\\python\\python39\\lib\\site-packages)\n",
      "WARNING: Ignoring invalid distribution -rotobuf (c:\\users\\balashanmugam\\appdata\\local\\programs\\python\\python39\\lib\\site-packages)\n",
      "WARNING: Ignoring invalid distribution -rotobuf (c:\\users\\balashanmugam\\appdata\\local\\programs\\python\\python39\\lib\\site-packages)\n",
      "\n",
      "[notice] A new release of pip is available: 23.0.1 -> 23.1.2\n",
      "[notice] To update, run: python.exe -m pip install --upgrade pip\n"
     ]
    }
   ],
   "source": [
    "!pip install mediapipe opencv-python"
   ]
  },
  {
   "cell_type": "code",
   "execution_count": 2,
   "id": "51966387",
   "metadata": {},
   "outputs": [],
   "source": [
    "import cv2\n",
    "import mediapipe as mp\n",
    "import numpy as np\n",
    "mp_drawing = mp.solutions.drawing_utils\n",
    "mp_pose = mp.solutions.pose"
   ]
  },
  {
   "cell_type": "code",
   "execution_count": 3,
   "id": "de27fac6",
   "metadata": {},
   "outputs": [],
   "source": [
    "def calculate_angle(a,b,c):\n",
    "    a = np.array(a) #fisrt\n",
    "    b = np.array(b) #mid\n",
    "    c = np.array(c) #end\n",
    "    \n",
    "    radians = np.arctan2(c[1]-b[1],c[0]-b[0]) - np.arctan2(a[1]-b[1],a[0]-b[0])\n",
    "    angle = np.abs(radians*180.0/np.pi)\n",
    "    \n",
    "    if angle>180.0:\n",
    "        angle = 360-angle\n",
    "    return angle"
   ]
  },
  {
   "cell_type": "code",
   "execution_count": null,
   "id": "04cd1315",
   "metadata": {},
   "outputs": [],
   "source": [
    "#Video feed\n",
    "cap = cv2.VideoCapture(0) #video capture device number ----> 0\n",
    "\n",
    "counter = 0\n",
    "stage = None\n",
    "\n",
    "# setup mediapipe instance\n",
    "with mp_pose.Pose(min_detection_confidence=0.5,min_tracking_confidence=0.5) as pose:\n",
    "    while cap.isOpened():\n",
    "        ret,frame = cap.read() #gives current feed from webcam, #frame gives the image from web cam\n",
    "        \n",
    "        #Recolor image to RGB\n",
    "        image = cv2.cvtColor(frame,cv2.COLOR_BGR2RGB)\n",
    "        image.flags.writeable = False\n",
    "        \n",
    "        # Make detection\n",
    "        results = pose.process(image)\n",
    "        \n",
    "        #Recolor back to BGR\n",
    "        image.flags.writeable = True\n",
    "        image = cv2.cvtColor(image,cv2.COLOR_RGB2BGR)\n",
    "        \n",
    "        #Extract landmarks\n",
    "        try:\n",
    "            landmarks = results.pose_landmarks.landmark\n",
    "            shoulder = [landmarks[mp_pose.PoseLandmark.LEFT_SHOULDER.value].x,landmarks[mp_pose.PoseLandmark.LEFT_SHOULDER.value].y]\n",
    "            elbow = [landmarks[mp_pose.PoseLandmark.LEFT_ELBOW.value].x,landmarks[mp_pose.PoseLandmark.LEFT_ELBOW.value].y]\n",
    "            wrist = [landmarks[mp_pose.PoseLandmark.LEFT_WRIST.value].x,landmarks[mp_pose.PoseLandmark.LEFT_WRIST.value].y]\n",
    "            \n",
    "            #calculate angle\n",
    "            angle = calculate_angle(shoulder,elbow,wrist)\n",
    "            \n",
    "            #Visualize\n",
    "            cv2.putText(image,str(angle),\n",
    "                       tuple(np.multiply(elbow,[640,480]).astype(int)),\n",
    "                            cv2.FONT_HERSHEY_SIMPLEX,0.5,(255,255,255),2,cv2.LINE_AA)\n",
    "           \n",
    "            if angle>160:\n",
    "                stage = \"down\"\n",
    "            if angle<30 and stage==\"down\":\n",
    "                stage = \"up\"\n",
    "                counter+=1\n",
    "            cv2.rectangle(image,(0,0),(225,73),(245,117,16),-1)\n",
    "        \n",
    "            cv2.putText(image,\"REPS\",(15,12),cv2.FONT_HERSHEY_SIMPLEX,0.5,(0,0,0),1,cv2.LINE_AA)\n",
    "            cv2.putText(image,str(counter),(10,60),cv2.FONT_HERSHEY_SIMPLEX,0.5,(0,0,0),2,cv2.LINE_AA)\n",
    "        \n",
    "            cv2.putText(image,\"STAGE\",(65,12),cv2.FONT_HERSHEY_SIMPLEX,0.5,(0,0,0),1,cv2.LINE_AA)\n",
    "            cv2.putText(image,stage,(60,60),cv2.FONT_HERSHEY_SIMPLEX,0.5,(0,0,0),2,cv2.LINE_AA)\n",
    "        except:\n",
    "            pass\n",
    "        \n",
    "       \n",
    "        #Render detections\n",
    "        mp_drawing.draw_landmarks(image,results.pose_landmarks,mp_pose.POSE_CONNECTIONS,\n",
    "                                 mp_drawing.DrawingSpec(color=(245,117,66),thickness=2,circle_radius=2),\n",
    "                                 mp_drawing.DrawingSpec(color=(245,62,230),thickness=2,circle_radius=2))\n",
    "        \n",
    "        cv2.imshow('My Feed',image)\n",
    "\n",
    "        if cv2.waitKey(10) & 0xFF == ord('q'):\n",
    "            break\n",
    "\n",
    "cap.release()\n",
    "cv2.destroyAllWindows()"
   ]
  },
  {
   "cell_type": "code",
   "execution_count": null,
   "id": "8e1ab828",
   "metadata": {},
   "outputs": [],
   "source": []
  }
 ],
 "metadata": {
  "kernelspec": {
   "display_name": "Python 3 (ipykernel)",
   "language": "python",
   "name": "python3"
  },
  "language_info": {
   "codemirror_mode": {
    "name": "ipython",
    "version": 3
   },
   "file_extension": ".py",
   "mimetype": "text/x-python",
   "name": "python",
   "nbconvert_exporter": "python",
   "pygments_lexer": "ipython3",
   "version": "3.9.8"
  }
 },
 "nbformat": 4,
 "nbformat_minor": 5
}
